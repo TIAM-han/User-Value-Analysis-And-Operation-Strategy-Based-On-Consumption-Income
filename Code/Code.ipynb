{
 "cells": [
  {
   "cell_type": "code",
   "execution_count": 1,
   "metadata": {},
   "outputs": [],
   "source": [
    "import time\n",
    "import numpy as np\n",
    "import pandas as pd\n",
    "from sklearn.ensemble import RandomForestClassifier"
   ]
  },
  {
   "cell_type": "code",
   "execution_count": 2,
   "metadata": {},
   "outputs": [],
   "source": [
    "sheet_names = ['2015','2016','2017','2018','会员等级']\n",
    "sheet_datas = [pd.read_excel('D:/Code/User Value Analysis And Operation Strategy Based On Consumption Income/Data/sales.xlsx',sheet_name=i) for i in sheet_names]"
   ]
  },
  {
   "cell_type": "code",
   "execution_count": 3,
   "metadata": {},
   "outputs": [
    {
     "name": "stdout",
     "output_type": "stream",
     "text": [
      "[data summary for =======================2015=======================]\n",
      "Overview: \n",
      "           会员ID         订单号       提交日期    订单金额\n",
      "0  15278002468  3000304681 2015-01-01   499.0\n",
      "1  39236378972  3000305791 2015-01-01  2588.0\n",
      "2  38722039578  3000641787 2015-01-01   498.0\n",
      "3  11049640063  3000798913 2015-01-01  1572.0\n",
      "4  35038752292  3000821546 2015-01-01    10.1\n",
      "DESC: \n",
      "                会员ID           订单号           订单金额\n",
      "count  3.077400e+04  3.077400e+04   30774.000000\n",
      "mean   2.918779e+10  4.020414e+09     960.991161\n",
      "std    1.385333e+10  2.630510e+08    2068.107231\n",
      "min    2.670000e+02  3.000305e+09       0.500000\n",
      "25%    1.944122e+10  3.885510e+09      59.000000\n",
      "50%    3.746545e+10  4.117491e+09     139.000000\n",
      "75%    3.923593e+10  4.234882e+09     899.000000\n",
      "max    3.954613e+10  4.282025e+09  111750.000000\n",
      "NA records 0\n",
      "Dtypes 会员ID             int64\n",
      "订单号              int64\n",
      "提交日期    datetime64[ns]\n",
      "订单金额           float64\n",
      "dtype: object\n",
      "[data summary for =======================2016=======================]\n",
      "Overview: \n",
      "           会员ID         订单号       提交日期    订单金额\n",
      "0  39288120141  4282025766 2016-01-01    76.0\n",
      "1  39293812118  4282037929 2016-01-01  7599.0\n",
      "2  27596340905  4282038740 2016-01-01   802.0\n",
      "3  15111475509  4282043819 2016-01-01    65.0\n",
      "4  38896594001  4282051044 2016-01-01    95.0\n",
      "DESC: \n",
      "                会员ID           订单号           订单金额\n",
      "count  4.127800e+04  4.127800e+04   41277.000000\n",
      "mean   2.908415e+10  4.313583e+09     957.106694\n",
      "std    1.389468e+10  1.094572e+07    2478.560036\n",
      "min    8.100000e+01  4.282026e+09       0.100000\n",
      "25%    1.934990e+10  4.309457e+09      59.000000\n",
      "50%    3.730339e+10  4.317545e+09     147.000000\n",
      "75%    3.923182e+10  4.321132e+09     888.000000\n",
      "max    3.954554e+10  4.324911e+09  174900.000000\n",
      "NA records 1\n",
      "Dtypes 会员ID             int64\n",
      "订单号              int64\n",
      "提交日期    datetime64[ns]\n",
      "订单金额           float64\n",
      "dtype: object\n",
      "[data summary for =======================2017=======================]\n",
      "Overview: \n",
      "           会员ID         订单号       提交日期    订单金额\n",
      "0  38765290840  4324911135 2017-01-01  1799.0\n",
      "1  39305832102  4324911213 2017-01-01   369.0\n",
      "2  34190994969  4324911251 2017-01-01   189.0\n",
      "3  38986333210  4324911283 2017-01-01   169.0\n",
      "4      4271359  4324911355 2017-01-01    78.0\n",
      "DESC: \n",
      "                会员ID           订单号           订单金额\n",
      "count  5.083900e+04  5.083900e+04   50839.000000\n",
      "mean   2.882368e+10  4.332466e+09     963.587872\n",
      "std    1.409416e+10  4.404350e+06    2178.727261\n",
      "min    2.780000e+02  4.324911e+09       0.300000\n",
      "25%    1.869274e+10  4.328415e+09      59.000000\n",
      "50%    3.688044e+10  4.331989e+09     149.000000\n",
      "75%    3.923020e+10  4.337515e+09     898.000000\n",
      "max    3.954554e+10  4.338764e+09  123609.000000\n",
      "NA records 0\n",
      "Dtypes 会员ID             int64\n",
      "订单号              int64\n",
      "提交日期    datetime64[ns]\n",
      "订单金额           float64\n",
      "dtype: object\n",
      "[data summary for =======================2018=======================]\n",
      "Overview: \n",
      "           会员ID         订单号       提交日期    订单金额\n",
      "0  39229691808  4338764262 2018-01-01  3646.0\n",
      "1  39293668916  4338764363 2018-01-01  3999.0\n",
      "2  35059646224  4338764376 2018-01-01    10.1\n",
      "3      1084397  4338770013 2018-01-01   828.0\n",
      "4      3349915  4338770121 2018-01-01  3758.0\n",
      "DESC: \n",
      "                会员ID           订单号           订单金额\n",
      "count  8.134900e+04  8.134900e+04   81348.000000\n",
      "mean   2.902317e+10  4.348372e+09     966.582792\n",
      "std    1.404116e+10  4.183774e+06    2204.969534\n",
      "min    2.780000e+02  4.338764e+09       0.000000\n",
      "25%    1.902755e+10  4.345654e+09      60.000000\n",
      "50%    3.740121e+10  4.349448e+09     149.000000\n",
      "75%    3.923380e+10  4.351639e+09     899.000000\n",
      "max    3.954614e+10  4.354235e+09  174900.000000\n",
      "NA records 1\n",
      "Dtypes 会员ID             int64\n",
      "订单号              int64\n",
      "提交日期    datetime64[ns]\n",
      "订单金额           float64\n",
      "dtype: object\n",
      "[data summary for =======================会员等级=======================]\n",
      "Overview: \n",
      "           会员ID  会员等级\n",
      "0       100090     3\n",
      "1  10012905801     1\n",
      "2  10012935109     1\n",
      "3  10013498043     1\n",
      "4  10014087899     4\n",
      "DESC: \n",
      "                会员ID           会员等级\n",
      "count  1.543850e+05  154385.000000\n",
      "mean   2.980055e+10       2.259701\n",
      "std    1.365654e+10       1.346408\n",
      "min    8.100000e+01       1.000000\n",
      "25%    2.213894e+10       1.000000\n",
      "50%    3.833022e+10       2.000000\n",
      "75%    3.927932e+10       3.000000\n",
      "max    3.954614e+10       5.000000\n",
      "NA records 0\n",
      "Dtypes 会员ID    int64\n",
      "会员等级    int64\n",
      "dtype: object\n"
     ]
    }
   ],
   "source": [
    "for each_name,each_data in zip(sheet_names,sheet_datas):    \n",
    "    print('[data summary for {0:=^50}]'.format(each_name))\n",
    "    # 展示数据前5条\n",
    "    print('Overview:','\\n',each_data.head())\n",
    "    # 数据描述性信息\n",
    "    print('DESC:','\\n',each_data.describe())\n",
    "    # 统计缺失值 \n",
    "    print('NA records',each_data.isnull().any(axis=1).sum())   \n",
    "    # 数据类型\n",
    "    print('Dtypes',each_data.dtypes) "
   ]
  },
  {
   "cell_type": "code",
   "execution_count": 4,
   "metadata": {},
   "outputs": [
    {
     "name": "stderr",
     "output_type": "stream",
     "text": [
      "D:\\Software\\Anaconda\\lib\\site-packages\\ipykernel_launcher.py:8: SettingWithCopyWarning: \n",
      "A value is trying to be set on a copy of a slice from a DataFrame.\n",
      "Try using .loc[row_indexer,col_indexer] = value instead\n",
      "\n",
      "See the caveats in the documentation: http://pandas.pydata.org/pandas-docs/stable/indexing.html#indexing-view-versus-copy\n",
      "  \n"
     ]
    }
   ],
   "source": [
    "# 去除缺失值和异常值\n",
    "for ind,each_data in enumerate(sheet_datas[:-1]):\n",
    "    # 丢弃缺失值记录\n",
    "    sheet_datas[ind] = each_data.dropna()\n",
    "    # 丢弃订单金额<=1的记录\n",
    "    sheet_datas[ind] = each_data[each_data['订单金额'] > 1]\n",
    "    # 增加一列最大日期值\n",
    "    sheet_datas[ind]['max_year_date'] = each_data['提交日期'].max() "
   ]
  },
  {
   "cell_type": "code",
   "execution_count": 5,
   "metadata": {},
   "outputs": [
    {
     "data": {
      "text/html": [
       "<div>\n",
       "<style scoped>\n",
       "    .dataframe tbody tr th:only-of-type {\n",
       "        vertical-align: middle;\n",
       "    }\n",
       "\n",
       "    .dataframe tbody tr th {\n",
       "        vertical-align: top;\n",
       "    }\n",
       "\n",
       "    .dataframe thead th {\n",
       "        text-align: right;\n",
       "    }\n",
       "</style>\n",
       "<table border=\"1\" class=\"dataframe\">\n",
       "  <thead>\n",
       "    <tr style=\"text-align: right;\">\n",
       "      <th></th>\n",
       "      <th>会员ID</th>\n",
       "      <th>订单号</th>\n",
       "      <th>提交日期</th>\n",
       "      <th>订单金额</th>\n",
       "      <th>max_year_date</th>\n",
       "      <th>date_interval</th>\n",
       "      <th>year</th>\n",
       "    </tr>\n",
       "  </thead>\n",
       "  <tbody>\n",
       "    <tr>\n",
       "      <th>0</th>\n",
       "      <td>15278002468</td>\n",
       "      <td>3000304681</td>\n",
       "      <td>2015-01-01</td>\n",
       "      <td>499.0</td>\n",
       "      <td>2015-12-31</td>\n",
       "      <td>364</td>\n",
       "      <td>2015</td>\n",
       "    </tr>\n",
       "    <tr>\n",
       "      <th>1</th>\n",
       "      <td>39236378972</td>\n",
       "      <td>3000305791</td>\n",
       "      <td>2015-01-01</td>\n",
       "      <td>2588.0</td>\n",
       "      <td>2015-12-31</td>\n",
       "      <td>364</td>\n",
       "      <td>2015</td>\n",
       "    </tr>\n",
       "    <tr>\n",
       "      <th>2</th>\n",
       "      <td>38722039578</td>\n",
       "      <td>3000641787</td>\n",
       "      <td>2015-01-01</td>\n",
       "      <td>498.0</td>\n",
       "      <td>2015-12-31</td>\n",
       "      <td>364</td>\n",
       "      <td>2015</td>\n",
       "    </tr>\n",
       "    <tr>\n",
       "      <th>3</th>\n",
       "      <td>11049640063</td>\n",
       "      <td>3000798913</td>\n",
       "      <td>2015-01-01</td>\n",
       "      <td>1572.0</td>\n",
       "      <td>2015-12-31</td>\n",
       "      <td>364</td>\n",
       "      <td>2015</td>\n",
       "    </tr>\n",
       "    <tr>\n",
       "      <th>4</th>\n",
       "      <td>35038752292</td>\n",
       "      <td>3000821546</td>\n",
       "      <td>2015-01-01</td>\n",
       "      <td>10.1</td>\n",
       "      <td>2015-12-31</td>\n",
       "      <td>364</td>\n",
       "      <td>2015</td>\n",
       "    </tr>\n",
       "  </tbody>\n",
       "</table>\n",
       "</div>"
      ],
      "text/plain": [
       "          会员ID         订单号       提交日期    订单金额 max_year_date  date_interval  \\\n",
       "0  15278002468  3000304681 2015-01-01   499.0    2015-12-31            364   \n",
       "1  39236378972  3000305791 2015-01-01  2588.0    2015-12-31            364   \n",
       "2  38722039578  3000641787 2015-01-01   498.0    2015-12-31            364   \n",
       "3  11049640063  3000798913 2015-01-01  1572.0    2015-12-31            364   \n",
       "4  35038752292  3000821546 2015-01-01    10.1    2015-12-31            364   \n",
       "\n",
       "   year  \n",
       "0  2015  \n",
       "1  2015  \n",
       "2  2015  \n",
       "3  2015  \n",
       "4  2015  "
      ]
     },
     "execution_count": 5,
     "metadata": {},
     "output_type": "execute_result"
    }
   ],
   "source": [
    "# 汇总所有数据\n",
    "data_merge = pd.concat(sheet_datas[:-1],axis=0)\n",
    "# 获取各自年份数据\n",
    "data_merge['date_interval'] = data_merge['max_year_date']-data_merge['提交日期']\n",
    "data_merge['year'] = data_merge['提交日期'].dt.year\n",
    "# 转换日期间隔为数字\n",
    "data_merge['date_interval'] = data_merge['date_interval'].apply(lambda x: x.days)\n",
    "data_merge.head()"
   ]
  },
  {
   "cell_type": "code",
   "execution_count": 10,
   "metadata": {},
   "outputs": [
    {
     "data": {
      "text/html": [
       "<div>\n",
       "<style scoped>\n",
       "    .dataframe tbody tr th:only-of-type {\n",
       "        vertical-align: middle;\n",
       "    }\n",
       "\n",
       "    .dataframe tbody tr th {\n",
       "        vertical-align: top;\n",
       "    }\n",
       "\n",
       "    .dataframe thead th {\n",
       "        text-align: right;\n",
       "    }\n",
       "</style>\n",
       "<table border=\"1\" class=\"dataframe\">\n",
       "  <thead>\n",
       "    <tr style=\"text-align: right;\">\n",
       "      <th></th>\n",
       "      <th>year</th>\n",
       "      <th>会员ID</th>\n",
       "      <th>r</th>\n",
       "      <th>f</th>\n",
       "      <th>m</th>\n",
       "    </tr>\n",
       "  </thead>\n",
       "  <tbody>\n",
       "    <tr>\n",
       "      <th>0</th>\n",
       "      <td>2015</td>\n",
       "      <td>267</td>\n",
       "      <td>197</td>\n",
       "      <td>2</td>\n",
       "      <td>105.0</td>\n",
       "    </tr>\n",
       "    <tr>\n",
       "      <th>1</th>\n",
       "      <td>2015</td>\n",
       "      <td>282</td>\n",
       "      <td>251</td>\n",
       "      <td>1</td>\n",
       "      <td>29.7</td>\n",
       "    </tr>\n",
       "    <tr>\n",
       "      <th>2</th>\n",
       "      <td>2015</td>\n",
       "      <td>283</td>\n",
       "      <td>340</td>\n",
       "      <td>1</td>\n",
       "      <td>5398.0</td>\n",
       "    </tr>\n",
       "    <tr>\n",
       "      <th>3</th>\n",
       "      <td>2015</td>\n",
       "      <td>343</td>\n",
       "      <td>300</td>\n",
       "      <td>1</td>\n",
       "      <td>118.0</td>\n",
       "    </tr>\n",
       "    <tr>\n",
       "      <th>4</th>\n",
       "      <td>2015</td>\n",
       "      <td>525</td>\n",
       "      <td>37</td>\n",
       "      <td>3</td>\n",
       "      <td>213.0</td>\n",
       "    </tr>\n",
       "  </tbody>\n",
       "</table>\n",
       "</div>"
      ],
      "text/plain": [
       "   year  会员ID    r  f       m\n",
       "0  2015   267  197  2   105.0\n",
       "1  2015   282  251  1    29.7\n",
       "2  2015   283  340  1  5398.0\n",
       "3  2015   343  300  1   118.0\n",
       "4  2015   525   37  3   213.0"
      ]
     },
     "execution_count": 10,
     "metadata": {},
     "output_type": "execute_result"
    }
   ],
   "source": [
    "# 按会员ID做汇总\n",
    "rfm_gb = data_merge.groupby(['year','会员ID'],as_index=False).agg({'date_interval': 'min',  # 计算最近一次订单时间\n",
    "                                                   '提交日期': 'count', # 计算订单频率\n",
    "                                                   '订单金额': 'sum'})  # 计算订单总金额\n",
    "# 重命名列名\n",
    "rfm_gb.columns =  ['year','会员ID','r','f','m']\n",
    "rfm_gb.head()"
   ]
  },
  {
   "cell_type": "code",
   "execution_count": 11,
   "metadata": {},
   "outputs": [
    {
     "name": "stdout",
     "output_type": "stream",
     "text": [
      "      count         mean          std  min   25%    50%     75%       max\n",
      "r  148591.0   165.524043   101.988472  0.0  79.0  156.0   255.0     365.0\n",
      "f  148591.0     1.365002     2.626953  1.0   1.0    1.0     1.0     130.0\n",
      "m  148591.0  1323.741329  3753.906883  1.5  69.0  189.0  1199.0  206251.8\n"
     ]
    }
   ],
   "source": [
    "# 查看数据分布\n",
    "desc_pd = rfm_gb.iloc[:,2:].describe().T\n",
    "print(desc_pd)\n",
    "# 定义区间边界\n",
    "r_bins = [-1,79,255,365] # 注意起始边界小于最小值\n",
    "f_bins = [0,2,5,130] \n",
    "m_bins = [0,69,1199,206252]"
   ]
  },
  {
   "cell_type": "code",
   "execution_count": 13,
   "metadata": {},
   "outputs": [],
   "source": [
    "# RFM分箱得分\n",
    "# 计算R得分\n",
    "rfm_gb['r_score'] = pd.cut(rfm_gb['r'], r_bins, labels=[i for i in range(len(r_bins)-1,0,-1)])\n",
    "# 计算F得分\n",
    "rfm_gb['f_score'] = pd.cut(rfm_gb['f'], f_bins, labels=[i+1 for i in range(len(f_bins)-1)])\n",
    "# 计算M得分\n",
    "rfm_gb['m_score'] = pd.cut(rfm_gb['m'], m_bins, labels=[i+1 for i in range(len(m_bins)-1)])  "
   ]
  },
  {
   "cell_type": "code",
   "execution_count": 14,
   "metadata": {},
   "outputs": [
    {
     "name": "stdout",
     "output_type": "stream",
     "text": [
      "   year  会员ID    r  f       m r_score f_score m_score\n",
      "0  2015   267  197  2   105.0       2       1       2\n",
      "1  2015   282  251  1    29.7       2       1       1\n",
      "2  2015   283  340  1  5398.0       1       1       3\n",
      "3  2015   343  300  1   118.0       1       1       2\n",
      "4  2015   525   37  3   213.0       3       2       2\n"
     ]
    }
   ],
   "source": [
    "print(rfm_gb.head())"
   ]
  },
  {
   "cell_type": "code",
   "execution_count": 15,
   "metadata": {},
   "outputs": [],
   "source": [
    "# 方法一：RFM组合\n",
    "rfm_gb['r_score'] = rfm_gb['r_score'].astype(np.str)\n",
    "rfm_gb['f_score'] = rfm_gb['f_score'].astype(np.str)\n",
    "rfm_gb['m_score'] = rfm_gb['m_score'].astype(np.str)\n",
    "rfm_gb['rfm_group'] = rfm_gb['r_score'].str.cat(rfm_gb['f_score']).str.cat(rfm_gb['m_score'])"
   ]
  },
  {
   "cell_type": "code",
   "execution_count": 16,
   "metadata": {},
   "outputs": [
    {
     "name": "stdout",
     "output_type": "stream",
     "text": [
      "   year  会员ID    r  f       m r_score f_score m_score rfm_group\n",
      "0  2015   267  197  2   105.0       2       1       2       212\n",
      "1  2015   282  251  1    29.7       2       1       1       211\n",
      "2  2015   283  340  1  5398.0       1       1       3       113\n",
      "3  2015   343  300  1   118.0       1       1       2       112\n",
      "4  2015   525   37  3   213.0       3       2       2       322\n"
     ]
    }
   ],
   "source": [
    "print(rfm_gb.head())"
   ]
  },
  {
   "cell_type": "code",
   "execution_count": 17,
   "metadata": {},
   "outputs": [],
   "source": [
    "# 匹配会员等级和rfm得分\n",
    "rfm_merge = pd.merge(rfm_gb,sheet_datas[-1],on='会员ID',how='inner')"
   ]
  },
  {
   "cell_type": "code",
   "execution_count": 18,
   "metadata": {},
   "outputs": [
    {
     "name": "stdout",
     "output_type": "stream",
     "text": [
      "feature importance: [0.40650885 0.00584077 0.58765038]\n"
     ]
    }
   ],
   "source": [
    "# 随机森林获得rfm因子得分\n",
    "clf = RandomForestClassifier()\n",
    "clf = clf.fit(rfm_merge[['r','f','m']],rfm_merge['会员等级'])\n",
    "weights = clf.feature_importances_\n",
    "print('feature importance:',weights)"
   ]
  },
  {
   "cell_type": "code",
   "execution_count": 19,
   "metadata": {},
   "outputs": [],
   "source": [
    "# 方法二：加权得分\n",
    "rfm_gb = rfm_gb.apply(np.int32) # cate转数值\n",
    "rfm_gb['rfm_score'] = rfm_gb['r_score'] * weights[0] + rfm_gb['f_score'] * weights[1] + rfm_gb['m_score'] * weights[2]"
   ]
  },
  {
   "cell_type": "code",
   "execution_count": 20,
   "metadata": {},
   "outputs": [
    {
     "name": "stdout",
     "output_type": "stream",
     "text": [
      "   year  会员ID    r  f     m  r_score  f_score  m_score  rfm_group  rfm_score\n",
      "0  2015   267  197  2   105        2        1        2        212   1.994159\n",
      "1  2015   282  251  1    29        2        1        1        211   1.406509\n",
      "2  2015   283  340  1  5398        1        1        3        113   2.175301\n",
      "3  2015   343  300  1   118        1        1        2        112   1.587650\n",
      "4  2015   525   37  3   213        3        2        2        322   2.406509\n"
     ]
    }
   ],
   "source": [
    "print(rfm_gb.head())"
   ]
  },
  {
   "cell_type": "code",
   "execution_count": 21,
   "metadata": {},
   "outputs": [],
   "source": [
    "rfm_gb.to_excel('D:/Code/User Value Analysis And Operation Strategy Based On Consumption Income/Result/sales_rfm_score.xlsx')"
   ]
  },
  {
   "cell_type": "code",
   "execution_count": null,
   "metadata": {},
   "outputs": [],
   "source": []
  }
 ],
 "metadata": {
  "kernelspec": {
   "display_name": "Python 3",
   "language": "python",
   "name": "python3"
  },
  "language_info": {
   "codemirror_mode": {
    "name": "ipython",
    "version": 3
   },
   "file_extension": ".py",
   "mimetype": "text/x-python",
   "name": "python",
   "nbconvert_exporter": "python",
   "pygments_lexer": "ipython3",
   "version": "3.6.5"
  }
 },
 "nbformat": 4,
 "nbformat_minor": 2
}
